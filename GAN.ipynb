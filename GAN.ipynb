{
  "nbformat": 4,
  "nbformat_minor": 0,
  "metadata": {
    "colab": {
      "name": "GAN.ipynb",
      "provenance": [],
      "collapsed_sections": []
    },
    "kernelspec": {
      "name": "python3",
      "display_name": "Python 3"
    },
    "accelerator": "GPU"
  },
  "cells": [
    {
      "cell_type": "markdown",
      "metadata": {
        "id": "CjDMd8nAmZk-",
        "colab_type": "text"
      },
      "source": [
        "###Run this command only if you have saved files in your drive in a folder called 'MNIST_GAN'"
      ]
    },
    {
      "cell_type": "code",
      "metadata": {
        "id": "TnT00RJMjbDp",
        "colab_type": "code",
        "colab": {}
      },
      "source": [
        "!cp /content/drive/'My Drive'/MNIST_GAN/adversarial.h5 ./\n",
        "!cp /content/drive/'My Drive'/MNIST_GAN/generator.h5 ./\n",
        "!cp /content/drive/'My Drive'/MNIST_GAN/discriminator.h5 ./"
      ],
      "execution_count": 0,
      "outputs": []
    },
    {
      "cell_type": "markdown",
      "metadata": {
        "id": "pO8mbHo_mfTY",
        "colab_type": "text"
      },
      "source": [
        "###making directory to store GAN output"
      ]
    },
    {
      "cell_type": "code",
      "metadata": {
        "id": "dBkOvCGRj0Gn",
        "colab_type": "code",
        "colab": {}
      },
      "source": [
        "!mkdir mnist_gan_output"
      ],
      "execution_count": 0,
      "outputs": []
    },
    {
      "cell_type": "code",
      "metadata": {
        "id": "XnDhp_xNsQ1n",
        "colab_type": "code",
        "colab": {}
      },
      "source": [
        "from keras import  Sequential\n",
        "from keras.layers import Dense,Conv2D,Conv2DTranspose,Flatten,LeakyReLU,Reshape\n",
        "from keras.optimizers import Adam, RMSprop\n",
        "import numpy as np\n",
        "import matplotlib.pyplot as plt\n",
        "from tensorflow.examples.tutorials.mnist import input_data\n",
        "from keras.datasets import mnist\n",
        "from keras.models import load_model"
      ],
      "execution_count": 0,
      "outputs": []
    },
    {
      "cell_type": "markdown",
      "metadata": {
        "id": "_i1lWadim8D-",
        "colab_type": "text"
      },
      "source": [
        "### loading images from tensorflow and keras"
      ]
    },
    {
      "cell_type": "code",
      "metadata": {
        "id": "VWjbA_aom-Dp",
        "colab_type": "code",
        "colab": {}
      },
      "source": [
        "#loading from tensorflow\n",
        "tf_inp_images = input_data.read_data_sets(\"mnist\",one_hot=True).train.images\n",
        "tf_inp_images = tf_inp_images.reshape(-1, 28,28, 1).astype(np.float32)\n",
        "    \n",
        "#loading from keras\n",
        "(keras_inp_images,dontcare),(dontcare,dontcare) = mnist.load_data()\n",
        "keras_inp_images = keras_inp_images.reshape(-1,28,28,1).astype(np.float32)"
      ],
      "execution_count": 0,
      "outputs": []
    },
    {
      "cell_type": "code",
      "metadata": {
        "id": "e8DT-5NIm9-a",
        "colab_type": "code",
        "colab": {}
      },
      "source": [
        "img_temp = keras_inp_images[0,:,:,:]\n",
        "plt.imshow( img_temp.reshape( (28,28) ) , cmap='gray' )\n",
        "print(img_temp)\n",
        "#needs normalization as values range from 0 to 255"
      ],
      "execution_count": 0,
      "outputs": []
    },
    {
      "cell_type": "code",
      "metadata": {
        "id": "wRe2fTgrm92p",
        "colab_type": "code",
        "colab": {}
      },
      "source": [
        "img_temp = tf_inp_images[0,:,:,:]\n",
        "plt.imshow( img_temp.reshape( (28,28) ) , cmap='gray' )\n",
        "print(img_temp)\n",
        "#does not need normalization as values already between 0 to 1"
      ],
      "execution_count": 0,
      "outputs": []
    },
    {
      "cell_type": "code",
      "metadata": {
        "id": "Q6qCCtKI21-y",
        "colab_type": "code",
        "colab": {}
      },
      "source": [
        "class GAN:\n",
        "\n",
        "  def __init__(self,latent_variables=20):\n",
        "    self.gen = None\n",
        "    self.discrim = None\n",
        "    self.DModel = None\n",
        "    self.GModel = None\n",
        "    self.latent_variables=latent_variables\n",
        "\n",
        "    #loading from keras without normalization\n",
        "    # (self.inp_images,dontcare),(dontcare,dontcare) = mnist.load_data()\n",
        "    # self.inp_images = self.inp_images.reshape(-1,28,28,1).astype(np.float32)\n",
        "\n",
        "\n",
        "    #loading from tensorflow\n",
        "    #self.inp_images = input_data.read_data_sets(\"mnist\",one_hot=True).train.images\n",
        "    #self.inp_images = self.inp_images.reshape(-1, 28,28, 1).astype(np.float32)\n",
        "    \n",
        "    #loading from keras with normalization\n",
        "    (self.inp_images,dontcare),(dontcare,dontcare) = mnist.load_data()\n",
        "    self.inp_images = self.inp_images.reshape(-1,28,28,1).astype(np.float32)/255\n",
        "\n",
        "\n",
        "    self.discriminator_mnist= self.discriminator_model()\n",
        "    self.adversarial_mnist= self.adver_model()\n",
        "    self.generator_mnist = self.generator()\n",
        "      \n",
        "  def train(self,batch_size=256,steps=5000,discrim_steps=1,summary_steps=100,continue_training=False):\n",
        "\n",
        "    if continue_training:\n",
        "      print(\"loading old models\")\n",
        "      generator_mnist = load_model('generator.h5',compile=False)\n",
        "      discriminator_mnist = load_model('discriminator.h5')\n",
        "      adversarial_mnist = load_model('adversarial.h5')\n",
        "\n",
        "    for i in range(steps):\n",
        "      for j in range(discrim_steps):\n",
        "        #discrimModel train {k times,k=1}\n",
        "        noise = np.random.uniform(-1.0,1.0,size=[batch_size,self.latent_variables])\n",
        "        images_gen = self.generator_mnist.predict(noise)\n",
        "        images_real = self.inp_images[ np.random.randint( 0,self.inp_images.shape[0],size=batch_size),:,:,: ]\n",
        "        x= np.concatenate((images_real,images_gen))\n",
        "        y= np.ones([2*batch_size,1])\n",
        "        y[batch_size:,:]=0\n",
        "        (d_loss,d_acc) = self.discriminator_mnist.train_on_batch(x,y)\n",
        "      \n",
        "      #advModel train\n",
        "      noise = np.random.uniform(-1.0,1.0,size=[batch_size,self.latent_variables])\n",
        "      y= np.ones([batch_size,1])\n",
        "      (a_loss,a_acc) = self.adversarial_mnist.train_on_batch(noise,y)\n",
        "\n",
        "      if i%summary_steps==0:\n",
        "        print(\"training step: \",str(i),\"(d_loss,d_acc): \",str(d_loss), str(d_acc),\"(a_loss,a_acc): \",str(a_loss), str(a_acc) )\n",
        "        noise_temp = np.random.uniform(-1.0,1.0,size=[1,self.latent_variables])\n",
        "        img_temp = self.generator_mnist.predict(noise_temp)\n",
        "        plt.imshow( img_temp.reshape( (28,28) ) , cmap='gray' )\n",
        "        plt.savefig('mnist_gan_output/img_'+str(i)+'.png')\n",
        "        plt.close('all')\n",
        "    self.generator_mnist.save('generator.h5')\n",
        "    self.discriminator_mnist.save('discriminator.h5')\n",
        "    self.adversarial_mnist.save('adversarial.h5')\n",
        "\n",
        "  def discriminator(self):\n",
        "    if self.discrim:\n",
        "     print(\"reusing old discrim\") \n",
        "     return self.discrim\n",
        "    \n",
        "    self.discrim = Sequential()\n",
        "\n",
        "    self.discrim.add( Conv2D(64,5,strides=2,padding='same', input_shape=(28,28,1)) )\n",
        "    self.discrim.add(LeakyReLU(0.2))\n",
        "\n",
        "    self.discrim.add( Conv2D(128,5,strides=2,padding='same') )\n",
        "    self.discrim.add(LeakyReLU(0.2))\n",
        "\n",
        "    self.discrim.add( Conv2D(256,5,strides=2,padding='same') )\n",
        "    self.discrim.add(LeakyReLU(0.2))\n",
        "\n",
        "    self.discrim.add( Flatten() )\n",
        "\n",
        "    self.discrim.add( Dense(1,activation='sigmoid') )\n",
        "    self.discrim.summary()\n",
        "    return self.discrim\n",
        "\n",
        "  def generator(self):\n",
        "    if self.gen:\n",
        "     print(\"reusing old gen\")\n",
        "     return self.gen\n",
        "\n",
        "    self.gen = Sequential()\n",
        "    self.gen.add( Dense(7*7*128 , input_dim=self.latent_variables, activation='relu' ) )\n",
        "    self.gen.add( Reshape( (7,7,128) ) )\n",
        "    #7 7 256\n",
        "\n",
        "    self.gen.add( Conv2DTranspose(64,5,strides=2, padding='same') )\n",
        "    self.gen.add( LeakyReLU(0.2) )\n",
        "    #14 14 64\n",
        "    self.gen.add( Conv2DTranspose(32,5,strides=2, padding='same') )\n",
        "    self.gen.add( LeakyReLU(0.2) )\n",
        "    #28 28 1\n",
        "    self.gen.add( Conv2DTranspose(1,5,strides=1, padding='same', activation='sigmoid') )\n",
        "\n",
        "    self.gen.summary()\n",
        "    return self.gen\n",
        "  \n",
        "  def discriminator_model(self):\n",
        "    if self.DModel:\n",
        "     print(\"reusing old discrim_model\")\n",
        "     return self.DModel\n",
        "    optim = RMSprop(lr=0.0002, decay=6e-8)\n",
        "    self.DModel = Sequential()\n",
        "    self.DModel.add (self.discriminator())\n",
        "    self.DModel.compile(loss='binary_crossentropy',optimizer = optim,metrics =['accuracy'])\n",
        "    return self.DModel\n",
        "\n",
        "  def adver_model(self):\n",
        "    if self.GModel:\n",
        "     print(\"reusing old adver_model\")\n",
        "     return self.GModel\n",
        "\n",
        "    optim = RMSprop(lr=0.0001, decay=3e-8)\n",
        "    self.GModel = Sequential()\n",
        "    self.GModel.add (self.generator())\n",
        "    self.GModel.add (self.discriminator())\n",
        "    self.GModel.compile(loss='binary_crossentropy',optimizer = optim,metrics =['accuracy'])\n",
        "    return self.GModel\n"
      ],
      "execution_count": 0,
      "outputs": []
    },
    {
      "cell_type": "code",
      "metadata": {
        "id": "h3cA2mmN8SL3",
        "colab_type": "code",
        "colab": {}
      },
      "source": [
        "gan = GAN()\n",
        "gan.train(batch_size=256,steps=5000,discrim_steps=1,summary_steps=100,continue_training=True)"
      ],
      "execution_count": 0,
      "outputs": []
    },
    {
      "cell_type": "markdown",
      "metadata": {
        "id": "2g-_QBPPmov5",
        "colab_type": "text"
      },
      "source": [
        "###Copying .h5 files to gdrive to continue training or for running generator later on"
      ]
    },
    {
      "cell_type": "code",
      "metadata": {
        "id": "ha4bLu-OjQE_",
        "colab_type": "code",
        "colab": {}
      },
      "source": [
        "!cp adversarial.h5 /content/drive/'My Drive'/MNIST_GAN\n",
        "!cp discriminator.h5 /content/drive/'My Drive'/MNIST_GAN\n",
        "!cp generator.h5 /content/drive/'My Drive'/MNIST_GAN"
      ],
      "execution_count": 0,
      "outputs": []
    },
    {
      "cell_type": "markdown",
      "metadata": {
        "id": "6BXwscffqpgT",
        "colab_type": "text"
      },
      "source": [
        "###Using the generator model to create MNIST numbers"
      ]
    },
    {
      "cell_type": "code",
      "metadata": {
        "id": "i0EtiuDefL13",
        "colab_type": "code",
        "outputId": "148c2ff0-2939-4dbc-a52b-7651464d4cf7",
        "colab": {
          "base_uri": "https://localhost:8080/",
          "height": 282
        }
      },
      "source": [
        "my_gen = load_model('generator.h5',compile=False)\n",
        "noise=np.array([0.7,-0.75,-0.7,-0.6,0.7,0.8,0.3,0.5,0.1,0.0,0.2,0.4,0.4,-0.7,-0.6,0.7,-0.75,-0.7,-0.6,0.7])\n",
        "noise = noise.reshape(-1,20)\n",
        "img_temp = my_gen.predict(noise)\n",
        "\n",
        "plt.imshow( img_temp.reshape( (28,28) ) , cmap='gray' )\n"
      ],
      "execution_count": 0,
      "outputs": [
        {
          "output_type": "execute_result",
          "data": {
            "text/plain": [
              "<matplotlib.image.AxesImage at 0x7f1062b44ac8>"
            ]
          },
          "metadata": {
            "tags": []
          },
          "execution_count": 24
        },
        {
          "output_type": "display_data",
          "data": {
            "image/png": "[encoded data removed]",
            "text/plain": [
              "<Figure size 432x288 with 1 Axes>"
            ]
          },
          "metadata": {
            "tags": []
          }
        }
      ]
    },
    {
      "cell_type": "code",
      "metadata": {
        "id": "1bgyhFFbirmp",
        "colab_type": "code",
        "outputId": "a004eabf-2f92-486e-f3b0-179a60abd11f",
        "colab": {
          "base_uri": "https://localhost:8080/",
          "height": 34
        }
      },
      "source": [
        "|"
      ],
      "execution_count": 0,
      "outputs": [
        {
          "output_type": "stream",
          "text": [
            "12\n"
          ],
          "name": "stdout"
        }
      ]
    },
    {
      "cell_type": "code",
      "metadata": {
        "id": "T2zKmnQui-Gd",
        "colab_type": "code",
        "colab": {}
      },
      "source": [
        ""
      ],
      "execution_count": 0,
      "outputs": []
    }
  ]
}